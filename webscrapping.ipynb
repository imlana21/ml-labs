{
  "nbformat": 4,
  "nbformat_minor": 0,
  "metadata": {
    "colab": {
      "name": "webscrapping",
      "provenance": [],
      "collapsed_sections": [
        "sZJZyICQJTFP"
      ],
      "authorship_tag": "ABX9TyNelGmdW0O9AUMjWwzVjn5w",
      "include_colab_link": true
    },
    "kernelspec": {
      "name": "python3",
      "display_name": "Python 3"
    }
  },
  "cells": [
    {
      "cell_type": "markdown",
      "metadata": {
        "id": "view-in-github",
        "colab_type": "text"
      },
      "source": [
        "<a href=\"https://colab.research.google.com/github/lana404/ml-labs/blob/master/webscrapping.ipynb\" target=\"_parent\"><img src=\"https://colab.research.google.com/assets/colab-badge.svg\" alt=\"Open In Colab\"/></a>"
      ]
    },
    {
      "cell_type": "markdown",
      "metadata": {
        "id": "GD_3dfgPMWjQ"
      },
      "source": [
        "# **Preparation**"
      ]
    },
    {
      "cell_type": "code",
      "metadata": {
        "colab": {
          "base_uri": "https://localhost:8080/"
        },
        "id": "ZxI_rl9VKstQ",
        "outputId": "51993cde-b286-473b-dea7-bdb35da42825"
      },
      "source": [
        "# Install Selenium\n",
        "!pip3 install selenium"
      ],
      "execution_count": 2,
      "outputs": [
        {
          "output_type": "stream",
          "text": [
            "Collecting selenium\n",
            "\u001b[?25l  Downloading https://files.pythonhosted.org/packages/80/d6/4294f0b4bce4de0abf13e17190289f9d0613b0a44e5dd6a7f5ca98459853/selenium-3.141.0-py2.py3-none-any.whl (904kB)\n",
            "\r\u001b[K     |▍                               | 10kB 17.0MB/s eta 0:00:01\r\u001b[K     |▊                               | 20kB 18.3MB/s eta 0:00:01\r\u001b[K     |█                               | 30kB 13.9MB/s eta 0:00:01\r\u001b[K     |█▌                              | 40kB 13.5MB/s eta 0:00:01\r\u001b[K     |█▉                              | 51kB 8.3MB/s eta 0:00:01\r\u001b[K     |██▏                             | 61kB 7.8MB/s eta 0:00:01\r\u001b[K     |██▌                             | 71kB 8.8MB/s eta 0:00:01\r\u001b[K     |███                             | 81kB 9.8MB/s eta 0:00:01\r\u001b[K     |███▎                            | 92kB 9.1MB/s eta 0:00:01\r\u001b[K     |███▋                            | 102kB 8.1MB/s eta 0:00:01\r\u001b[K     |████                            | 112kB 8.1MB/s eta 0:00:01\r\u001b[K     |████▍                           | 122kB 8.1MB/s eta 0:00:01\r\u001b[K     |████▊                           | 133kB 8.1MB/s eta 0:00:01\r\u001b[K     |█████                           | 143kB 8.1MB/s eta 0:00:01\r\u001b[K     |█████▍                          | 153kB 8.1MB/s eta 0:00:01\r\u001b[K     |█████▉                          | 163kB 8.1MB/s eta 0:00:01\r\u001b[K     |██████▏                         | 174kB 8.1MB/s eta 0:00:01\r\u001b[K     |██████▌                         | 184kB 8.1MB/s eta 0:00:01\r\u001b[K     |██████▉                         | 194kB 8.1MB/s eta 0:00:01\r\u001b[K     |███████▎                        | 204kB 8.1MB/s eta 0:00:01\r\u001b[K     |███████▋                        | 215kB 8.1MB/s eta 0:00:01\r\u001b[K     |████████                        | 225kB 8.1MB/s eta 0:00:01\r\u001b[K     |████████▎                       | 235kB 8.1MB/s eta 0:00:01\r\u001b[K     |████████▊                       | 245kB 8.1MB/s eta 0:00:01\r\u001b[K     |█████████                       | 256kB 8.1MB/s eta 0:00:01\r\u001b[K     |█████████▍                      | 266kB 8.1MB/s eta 0:00:01\r\u001b[K     |█████████▉                      | 276kB 8.1MB/s eta 0:00:01\r\u001b[K     |██████████▏                     | 286kB 8.1MB/s eta 0:00:01\r\u001b[K     |██████████▌                     | 296kB 8.1MB/s eta 0:00:01\r\u001b[K     |██████████▉                     | 307kB 8.1MB/s eta 0:00:01\r\u001b[K     |███████████▎                    | 317kB 8.1MB/s eta 0:00:01\r\u001b[K     |███████████▋                    | 327kB 8.1MB/s eta 0:00:01\r\u001b[K     |████████████                    | 337kB 8.1MB/s eta 0:00:01\r\u001b[K     |████████████▎                   | 348kB 8.1MB/s eta 0:00:01\r\u001b[K     |████████████▊                   | 358kB 8.1MB/s eta 0:00:01\r\u001b[K     |█████████████                   | 368kB 8.1MB/s eta 0:00:01\r\u001b[K     |█████████████▍                  | 378kB 8.1MB/s eta 0:00:01\r\u001b[K     |█████████████▊                  | 389kB 8.1MB/s eta 0:00:01\r\u001b[K     |██████████████▏                 | 399kB 8.1MB/s eta 0:00:01\r\u001b[K     |██████████████▌                 | 409kB 8.1MB/s eta 0:00:01\r\u001b[K     |██████████████▉                 | 419kB 8.1MB/s eta 0:00:01\r\u001b[K     |███████████████▏                | 430kB 8.1MB/s eta 0:00:01\r\u001b[K     |███████████████▋                | 440kB 8.1MB/s eta 0:00:01\r\u001b[K     |████████████████                | 450kB 8.1MB/s eta 0:00:01\r\u001b[K     |████████████████▎               | 460kB 8.1MB/s eta 0:00:01\r\u001b[K     |████████████████▋               | 471kB 8.1MB/s eta 0:00:01\r\u001b[K     |█████████████████               | 481kB 8.1MB/s eta 0:00:01\r\u001b[K     |█████████████████▍              | 491kB 8.1MB/s eta 0:00:01\r\u001b[K     |█████████████████▊              | 501kB 8.1MB/s eta 0:00:01\r\u001b[K     |██████████████████▏             | 512kB 8.1MB/s eta 0:00:01\r\u001b[K     |██████████████████▌             | 522kB 8.1MB/s eta 0:00:01\r\u001b[K     |██████████████████▉             | 532kB 8.1MB/s eta 0:00:01\r\u001b[K     |███████████████████▏            | 542kB 8.1MB/s eta 0:00:01\r\u001b[K     |███████████████████▋            | 552kB 8.1MB/s eta 0:00:01\r\u001b[K     |████████████████████            | 563kB 8.1MB/s eta 0:00:01\r\u001b[K     |████████████████████▎           | 573kB 8.1MB/s eta 0:00:01\r\u001b[K     |████████████████████▋           | 583kB 8.1MB/s eta 0:00:01\r\u001b[K     |█████████████████████           | 593kB 8.1MB/s eta 0:00:01\r\u001b[K     |█████████████████████▍          | 604kB 8.1MB/s eta 0:00:01\r\u001b[K     |█████████████████████▊          | 614kB 8.1MB/s eta 0:00:01\r\u001b[K     |██████████████████████          | 624kB 8.1MB/s eta 0:00:01\r\u001b[K     |██████████████████████▌         | 634kB 8.1MB/s eta 0:00:01\r\u001b[K     |██████████████████████▉         | 645kB 8.1MB/s eta 0:00:01\r\u001b[K     |███████████████████████▏        | 655kB 8.1MB/s eta 0:00:01\r\u001b[K     |███████████████████████▌        | 665kB 8.1MB/s eta 0:00:01\r\u001b[K     |████████████████████████        | 675kB 8.1MB/s eta 0:00:01\r\u001b[K     |████████████████████████▎       | 686kB 8.1MB/s eta 0:00:01\r\u001b[K     |████████████████████████▋       | 696kB 8.1MB/s eta 0:00:01\r\u001b[K     |█████████████████████████       | 706kB 8.1MB/s eta 0:00:01\r\u001b[K     |█████████████████████████▍      | 716kB 8.1MB/s eta 0:00:01\r\u001b[K     |█████████████████████████▊      | 727kB 8.1MB/s eta 0:00:01\r\u001b[K     |██████████████████████████      | 737kB 8.1MB/s eta 0:00:01\r\u001b[K     |██████████████████████████▍     | 747kB 8.1MB/s eta 0:00:01\r\u001b[K     |██████████████████████████▉     | 757kB 8.1MB/s eta 0:00:01\r\u001b[K     |███████████████████████████▏    | 768kB 8.1MB/s eta 0:00:01\r\u001b[K     |███████████████████████████▌    | 778kB 8.1MB/s eta 0:00:01\r\u001b[K     |████████████████████████████    | 788kB 8.1MB/s eta 0:00:01\r\u001b[K     |████████████████████████████▎   | 798kB 8.1MB/s eta 0:00:01\r\u001b[K     |████████████████████████████▋   | 808kB 8.1MB/s eta 0:00:01\r\u001b[K     |█████████████████████████████   | 819kB 8.1MB/s eta 0:00:01\r\u001b[K     |█████████████████████████████▍  | 829kB 8.1MB/s eta 0:00:01\r\u001b[K     |█████████████████████████████▊  | 839kB 8.1MB/s eta 0:00:01\r\u001b[K     |██████████████████████████████  | 849kB 8.1MB/s eta 0:00:01\r\u001b[K     |██████████████████████████████▍ | 860kB 8.1MB/s eta 0:00:01\r\u001b[K     |██████████████████████████████▉ | 870kB 8.1MB/s eta 0:00:01\r\u001b[K     |███████████████████████████████▏| 880kB 8.1MB/s eta 0:00:01\r\u001b[K     |███████████████████████████████▌| 890kB 8.1MB/s eta 0:00:01\r\u001b[K     |███████████████████████████████▉| 901kB 8.1MB/s eta 0:00:01\r\u001b[K     |████████████████████████████████| 911kB 8.1MB/s \n",
            "\u001b[?25hRequirement already satisfied: urllib3 in /usr/local/lib/python3.6/dist-packages (from selenium) (1.24.3)\n",
            "Installing collected packages: selenium\n",
            "Successfully installed selenium-3.141.0\n"
          ],
          "name": "stdout"
        }
      ]
    },
    {
      "cell_type": "markdown",
      "metadata": {
        "id": "sZJZyICQJTFP"
      },
      "source": [
        "# **Scrapping Twitter lewat Google Search**"
      ]
    },
    {
      "cell_type": "code",
      "metadata": {
        "colab": {
          "base_uri": "https://localhost:8080/",
          "height": 445
        },
        "id": "fqXn0UwrIF0I",
        "outputId": "3aab23a9-7b14-4a98-84b8-6682a298bfb5"
      },
      "source": [
        "from selenium import webdriver\n",
        "\n",
        "driver = webdriver.Firefox()\n",
        "driver.get('http://google.com')"
      ],
      "execution_count": 4,
      "outputs": [
        {
          "output_type": "error",
          "ename": "WebDriverException",
          "evalue": "ignored",
          "traceback": [
            "\u001b[0;31m---------------------------------------------------------------------------\u001b[0m",
            "\u001b[0;31mFileNotFoundError\u001b[0m                         Traceback (most recent call last)",
            "\u001b[0;32m/usr/local/lib/python3.6/dist-packages/selenium/webdriver/common/service.py\u001b[0m in \u001b[0;36mstart\u001b[0;34m(self)\u001b[0m\n\u001b[1;32m     75\u001b[0m                                             \u001b[0mstderr\u001b[0m\u001b[0;34m=\u001b[0m\u001b[0mself\u001b[0m\u001b[0;34m.\u001b[0m\u001b[0mlog_file\u001b[0m\u001b[0;34m,\u001b[0m\u001b[0;34m\u001b[0m\u001b[0;34m\u001b[0m\u001b[0m\n\u001b[0;32m---> 76\u001b[0;31m                                             stdin=PIPE)\n\u001b[0m\u001b[1;32m     77\u001b[0m         \u001b[0;32mexcept\u001b[0m \u001b[0mTypeError\u001b[0m\u001b[0;34m:\u001b[0m\u001b[0;34m\u001b[0m\u001b[0;34m\u001b[0m\u001b[0m\n",
            "\u001b[0;32m/usr/lib/python3.6/subprocess.py\u001b[0m in \u001b[0;36m__init__\u001b[0;34m(self, args, bufsize, executable, stdin, stdout, stderr, preexec_fn, close_fds, shell, cwd, env, universal_newlines, startupinfo, creationflags, restore_signals, start_new_session, pass_fds, encoding, errors)\u001b[0m\n\u001b[1;32m    728\u001b[0m                                 \u001b[0merrread\u001b[0m\u001b[0;34m,\u001b[0m \u001b[0merrwrite\u001b[0m\u001b[0;34m,\u001b[0m\u001b[0;34m\u001b[0m\u001b[0;34m\u001b[0m\u001b[0m\n\u001b[0;32m--> 729\u001b[0;31m                                 restore_signals, start_new_session)\n\u001b[0m\u001b[1;32m    730\u001b[0m         \u001b[0;32mexcept\u001b[0m\u001b[0;34m:\u001b[0m\u001b[0;34m\u001b[0m\u001b[0;34m\u001b[0m\u001b[0m\n",
            "\u001b[0;32m/usr/lib/python3.6/subprocess.py\u001b[0m in \u001b[0;36m_execute_child\u001b[0;34m(self, args, executable, preexec_fn, close_fds, pass_fds, cwd, env, startupinfo, creationflags, shell, p2cread, p2cwrite, c2pread, c2pwrite, errread, errwrite, restore_signals, start_new_session)\u001b[0m\n\u001b[1;32m   1363\u001b[0m                             \u001b[0merr_msg\u001b[0m \u001b[0;34m+=\u001b[0m \u001b[0;34m': '\u001b[0m \u001b[0;34m+\u001b[0m \u001b[0mrepr\u001b[0m\u001b[0;34m(\u001b[0m\u001b[0merr_filename\u001b[0m\u001b[0;34m)\u001b[0m\u001b[0;34m\u001b[0m\u001b[0;34m\u001b[0m\u001b[0m\n\u001b[0;32m-> 1364\u001b[0;31m                     \u001b[0;32mraise\u001b[0m \u001b[0mchild_exception_type\u001b[0m\u001b[0;34m(\u001b[0m\u001b[0merrno_num\u001b[0m\u001b[0;34m,\u001b[0m \u001b[0merr_msg\u001b[0m\u001b[0;34m,\u001b[0m \u001b[0merr_filename\u001b[0m\u001b[0;34m)\u001b[0m\u001b[0;34m\u001b[0m\u001b[0;34m\u001b[0m\u001b[0m\n\u001b[0m\u001b[1;32m   1365\u001b[0m                 \u001b[0;32mraise\u001b[0m \u001b[0mchild_exception_type\u001b[0m\u001b[0;34m(\u001b[0m\u001b[0merr_msg\u001b[0m\u001b[0;34m)\u001b[0m\u001b[0;34m\u001b[0m\u001b[0;34m\u001b[0m\u001b[0m\n",
            "\u001b[0;31mFileNotFoundError\u001b[0m: [Errno 2] No such file or directory: 'geckodriver': 'geckodriver'",
            "\nDuring handling of the above exception, another exception occurred:\n",
            "\u001b[0;31mWebDriverException\u001b[0m                        Traceback (most recent call last)",
            "\u001b[0;32m<ipython-input-4-ca56dfe67e13>\u001b[0m in \u001b[0;36m<module>\u001b[0;34m()\u001b[0m\n\u001b[1;32m      1\u001b[0m \u001b[0;32mfrom\u001b[0m \u001b[0mselenium\u001b[0m \u001b[0;32mimport\u001b[0m \u001b[0mwebdriver\u001b[0m\u001b[0;34m\u001b[0m\u001b[0;34m\u001b[0m\u001b[0m\n\u001b[1;32m      2\u001b[0m \u001b[0;34m\u001b[0m\u001b[0m\n\u001b[0;32m----> 3\u001b[0;31m \u001b[0mdriver\u001b[0m \u001b[0;34m=\u001b[0m \u001b[0mwebdriver\u001b[0m\u001b[0;34m.\u001b[0m\u001b[0mFirefox\u001b[0m\u001b[0;34m(\u001b[0m\u001b[0;34m)\u001b[0m\u001b[0;34m\u001b[0m\u001b[0;34m\u001b[0m\u001b[0m\n\u001b[0m\u001b[1;32m      4\u001b[0m \u001b[0mdriver\u001b[0m\u001b[0;34m.\u001b[0m\u001b[0mget\u001b[0m\u001b[0;34m(\u001b[0m\u001b[0;34m'http://google.com'\u001b[0m\u001b[0;34m)\u001b[0m\u001b[0;34m\u001b[0m\u001b[0;34m\u001b[0m\u001b[0m\n",
            "\u001b[0;32m/usr/local/lib/python3.6/dist-packages/selenium/webdriver/firefox/webdriver.py\u001b[0m in \u001b[0;36m__init__\u001b[0;34m(self, firefox_profile, firefox_binary, timeout, capabilities, proxy, executable_path, options, service_log_path, firefox_options, service_args, desired_capabilities, log_path, keep_alive)\u001b[0m\n\u001b[1;32m    162\u001b[0m                 \u001b[0mservice_args\u001b[0m\u001b[0;34m=\u001b[0m\u001b[0mservice_args\u001b[0m\u001b[0;34m,\u001b[0m\u001b[0;34m\u001b[0m\u001b[0;34m\u001b[0m\u001b[0m\n\u001b[1;32m    163\u001b[0m                 log_path=service_log_path)\n\u001b[0;32m--> 164\u001b[0;31m             \u001b[0mself\u001b[0m\u001b[0;34m.\u001b[0m\u001b[0mservice\u001b[0m\u001b[0;34m.\u001b[0m\u001b[0mstart\u001b[0m\u001b[0;34m(\u001b[0m\u001b[0;34m)\u001b[0m\u001b[0;34m\u001b[0m\u001b[0;34m\u001b[0m\u001b[0m\n\u001b[0m\u001b[1;32m    165\u001b[0m \u001b[0;34m\u001b[0m\u001b[0m\n\u001b[1;32m    166\u001b[0m             \u001b[0mcapabilities\u001b[0m\u001b[0;34m.\u001b[0m\u001b[0mupdate\u001b[0m\u001b[0;34m(\u001b[0m\u001b[0moptions\u001b[0m\u001b[0;34m.\u001b[0m\u001b[0mto_capabilities\u001b[0m\u001b[0;34m(\u001b[0m\u001b[0;34m)\u001b[0m\u001b[0;34m)\u001b[0m\u001b[0;34m\u001b[0m\u001b[0;34m\u001b[0m\u001b[0m\n",
            "\u001b[0;32m/usr/local/lib/python3.6/dist-packages/selenium/webdriver/common/service.py\u001b[0m in \u001b[0;36mstart\u001b[0;34m(self)\u001b[0m\n\u001b[1;32m     81\u001b[0m                 raise WebDriverException(\n\u001b[1;32m     82\u001b[0m                     \"'%s' executable needs to be in PATH. %s\" % (\n\u001b[0;32m---> 83\u001b[0;31m                         os.path.basename(self.path), self.start_error_message)\n\u001b[0m\u001b[1;32m     84\u001b[0m                 )\n\u001b[1;32m     85\u001b[0m             \u001b[0;32melif\u001b[0m \u001b[0merr\u001b[0m\u001b[0;34m.\u001b[0m\u001b[0merrno\u001b[0m \u001b[0;34m==\u001b[0m \u001b[0merrno\u001b[0m\u001b[0;34m.\u001b[0m\u001b[0mEACCES\u001b[0m\u001b[0;34m:\u001b[0m\u001b[0;34m\u001b[0m\u001b[0;34m\u001b[0m\u001b[0m\n",
            "\u001b[0;31mWebDriverException\u001b[0m: Message: 'geckodriver' executable needs to be in PATH. \n"
          ]
        }
      ]
    }
  ]
}